{
  "nbformat": 4,
  "nbformat_minor": 0,
  "metadata": {
    "colab": {
      "provenance": [],
      "include_colab_link": true
    },
    "kernelspec": {
      "name": "python3",
      "display_name": "Python 3"
    },
    "language_info": {
      "name": "python"
    }
  },
  "cells": [
    {
      "cell_type": "markdown",
      "metadata": {
        "id": "view-in-github",
        "colab_type": "text"
      },
      "source": [
        "<a href=\"https://colab.research.google.com/github/trappertwo/rPPG_experiments/blob/main/compress_videos.ipynb\" target=\"_parent\"><img src=\"https://colab.research.google.com/assets/colab-badge.svg\" alt=\"Open In Colab\"/></a>"
      ]
    },
    {
      "cell_type": "code",
      "execution_count": 8,
      "metadata": {
        "id": "oS25JlxfmkFF",
        "colab": {
          "base_uri": "https://localhost:8080/"
        },
        "outputId": "ee75e779-5ad0-43a2-e348-1cf8938ca060"
      },
      "outputs": [
        {
          "output_type": "stream",
          "name": "stdout",
          "text": [
            "Drive already mounted at /content/drive; to attempt to forcibly remount, call drive.mount(\"/content/drive\", force_remount=True).\n"
          ]
        }
      ],
      "source": [
        "### UBFC-rPPG dataset in drive folder\n",
        "### (TODO) Figure out how to import data set directly into colab\n",
        "from google.colab import drive\n",
        "\n",
        "drive.mount('/content/drive')"
      ]
    },
    {
      "cell_type": "code",
      "source": [
        "### Compress the UBFC dataset and store the compressed files under a separate\n",
        "### dir structure. Only needs to be run once.\n",
        "import numpy as np\n",
        "import pandas as pd\n",
        "import math\n",
        "import matplotlib.pyplot as plt\n",
        "import shutil\n",
        "import os\n",
        "\n",
        "!pip install -q mediapy\n",
        "import mediapy as media\n",
        "\n",
        "base_path = '/content/drive/MyDrive/research_project/data/UBFC-rPPG/DATASET_2' # @param {type:\"string\"}\n",
        "compressed_path = '/content/drive/MyDrive/research_project/data/UBFC-rPPG/150_1_train' # @param {type:\"string\"}\n",
        "\n",
        "!ls -l $base_path/subject9\n",
        "!ls -l $compressed_path"
      ],
      "metadata": {
        "id": "puUO3uF8my5h",
        "colab": {
          "base_uri": "https://localhost:8080/"
        },
        "outputId": "6b598371-cab6-465f-f3ed-b3cac0f1ef45"
      },
      "execution_count": 21,
      "outputs": [
        {
          "output_type": "stream",
          "name": "stdout",
          "text": [
            "total 1814623\n",
            "-r-------- 1 root root      96774 Mar  7  2018 ground_truth.txt\n",
            "-r-------- 1 root root 1858075976 Nov  2  2017 vid.avi\n",
            "ls: cannot access '/content/drive/MyDrive/research_project/data/UBFC-rPPG/150_1_train': No such file or directory\n"
          ]
        }
      ]
    },
    {
      "cell_type": "code",
      "source": [
        "COMPRESSION_RATIO = 150 # @param {type:\"number\"}\n",
        "LENGTH = 640 # @param {type:\"number\"}\n",
        "WIDTH = 480 # @param {type:\"number\"}\n",
        "FPS = 30 # @param {type:\"number\"}\n",
        "ORIGINAL_BIT_RATE = LENGTH*WIDTH*8*3*FPS #Only for UBFC-rPPG\n",
        "print(\"Original bit rate: \" + str(ORIGINAL_BIT_RATE))\n",
        "COMPRESSION_BIT_RATE = ORIGINAL_BIT_RATE // COMPRESSION_RATIO\n",
        "print(\"Compression bit rate: \" + str(COMPRESSION_BIT_RATE))"
      ],
      "metadata": {
        "id": "0jWdfpiIqo6G",
        "outputId": "b2e38374-e676-400d-98e7-4c9a880862ce",
        "colab": {
          "base_uri": "https://localhost:8080/"
        }
      },
      "execution_count": 11,
      "outputs": [
        {
          "output_type": "stream",
          "name": "stdout",
          "text": [
            "Original bit rate: 221184000\n",
            "Compression bit rate: 1474560\n"
          ]
        }
      ]
    },
    {
      "cell_type": "code",
      "source": [
        "# Compress data - creates new dataset\n",
        "#BIT_RATE = 5000000 # @param {type:\"number\"}\n",
        "import cv2\n",
        "\n",
        "dirnames = os.listdir(base_path)\n",
        "if not os.path.isdir(compressed_path):\n",
        "  os.mkdir(compressed_path)\n",
        "for dirname in dirnames:\n",
        "  if not os.path.isdir(os.path.join(compressed_path, dirname)):\n",
        "    os.mkdir(os.path.join(compressed_path, dirname))\n",
        "  for filename in os.listdir(os.path.join(base_path, dirname)):\n",
        "    if filename.endswith('.avi'):\n",
        "      original_video_path = os.path.join(base_path, dirname, filename)\n",
        "      compressed_video_path = os.path.join(compressed_path, dirname, 'vid.mp4')\n",
        "      print(f\"Compressing {original_video_path}\")\n",
        "\n",
        "      cap = cv2.VideoCapture(original_video_path)\n",
        "      fourcc = cv2.VideoWriter_fourcc(*'X264')\n",
        "      out = cv2.VideoWriter(compressed_video_path, fourcc, FPS, (LENGTH, WIDTH))\n",
        "\n",
        "      while cap.isOpened():\n",
        "          ret, frame = cap.read()\n",
        "          if not ret:\n",
        "              break\n",
        "          frame = cv2.resize(frame, (LENGTH, WIDTH))\n",
        "          out.write(frame)\n",
        "\n",
        "      cap.release()\n",
        "      out.release()\n",
        "      print(f\"Finished compressing {original_video_path} to {compressed_video_path}\")\n",
        "\n",
        "    else:\n",
        "      shutil.copy(os.path.join(base_path, dirname, filename), os.path.join(compressed_path, dirname, filename))\n",
        "print(\"All files processed\")"
      ],
      "metadata": {
        "collapsed": true,
        "id": "BM3fBfUImy_2",
        "colab": {
          "base_uri": "https://localhost:8080/"
        },
        "outputId": "520ba101-0376-4afe-e9f5-2bc2b6f48e09"
      },
      "execution_count": 22,
      "outputs": [
        {
          "output_type": "stream",
          "name": "stdout",
          "text": [
            "Compressing /content/drive/MyDrive/research_project/data/UBFC-rPPG/DATASET_2/subject1/vid.avi\n",
            "Finished compressing /content/drive/MyDrive/research_project/data/UBFC-rPPG/DATASET_2/subject1/vid.avi to /content/drive/MyDrive/research_project/data/UBFC-rPPG/150_1_train/subject1/vid.mp4\n",
            "Compressing /content/drive/MyDrive/research_project/data/UBFC-rPPG/DATASET_2/subject10/vid.avi\n",
            "Finished compressing /content/drive/MyDrive/research_project/data/UBFC-rPPG/DATASET_2/subject10/vid.avi to /content/drive/MyDrive/research_project/data/UBFC-rPPG/150_1_train/subject10/vid.mp4\n",
            "Compressing /content/drive/MyDrive/research_project/data/UBFC-rPPG/DATASET_2/subject11/vid.avi\n",
            "Finished compressing /content/drive/MyDrive/research_project/data/UBFC-rPPG/DATASET_2/subject11/vid.avi to /content/drive/MyDrive/research_project/data/UBFC-rPPG/150_1_train/subject11/vid.mp4\n",
            "Compressing /content/drive/MyDrive/research_project/data/UBFC-rPPG/DATASET_2/subject12/vid.avi\n",
            "Finished compressing /content/drive/MyDrive/research_project/data/UBFC-rPPG/DATASET_2/subject12/vid.avi to /content/drive/MyDrive/research_project/data/UBFC-rPPG/150_1_train/subject12/vid.mp4\n",
            "Compressing /content/drive/MyDrive/research_project/data/UBFC-rPPG/DATASET_2/subject13/vid.avi\n",
            "Finished compressing /content/drive/MyDrive/research_project/data/UBFC-rPPG/DATASET_2/subject13/vid.avi to /content/drive/MyDrive/research_project/data/UBFC-rPPG/150_1_train/subject13/vid.mp4\n",
            "Compressing /content/drive/MyDrive/research_project/data/UBFC-rPPG/DATASET_2/subject14/vid.avi\n",
            "Finished compressing /content/drive/MyDrive/research_project/data/UBFC-rPPG/DATASET_2/subject14/vid.avi to /content/drive/MyDrive/research_project/data/UBFC-rPPG/150_1_train/subject14/vid.mp4\n",
            "Compressing /content/drive/MyDrive/research_project/data/UBFC-rPPG/DATASET_2/subject15/vid.avi\n",
            "Finished compressing /content/drive/MyDrive/research_project/data/UBFC-rPPG/DATASET_2/subject15/vid.avi to /content/drive/MyDrive/research_project/data/UBFC-rPPG/150_1_train/subject15/vid.mp4\n",
            "Compressing /content/drive/MyDrive/research_project/data/UBFC-rPPG/DATASET_2/subject16/vid.avi\n",
            "Finished compressing /content/drive/MyDrive/research_project/data/UBFC-rPPG/DATASET_2/subject16/vid.avi to /content/drive/MyDrive/research_project/data/UBFC-rPPG/150_1_train/subject16/vid.mp4\n",
            "Compressing /content/drive/MyDrive/research_project/data/UBFC-rPPG/DATASET_2/subject17/vid.avi\n",
            "Finished compressing /content/drive/MyDrive/research_project/data/UBFC-rPPG/DATASET_2/subject17/vid.avi to /content/drive/MyDrive/research_project/data/UBFC-rPPG/150_1_train/subject17/vid.mp4\n",
            "Compressing /content/drive/MyDrive/research_project/data/UBFC-rPPG/DATASET_2/subject18/vid.avi\n",
            "Finished compressing /content/drive/MyDrive/research_project/data/UBFC-rPPG/DATASET_2/subject18/vid.avi to /content/drive/MyDrive/research_project/data/UBFC-rPPG/150_1_train/subject18/vid.mp4\n",
            "Compressing /content/drive/MyDrive/research_project/data/UBFC-rPPG/DATASET_2/subject20/vid.avi\n",
            "Finished compressing /content/drive/MyDrive/research_project/data/UBFC-rPPG/DATASET_2/subject20/vid.avi to /content/drive/MyDrive/research_project/data/UBFC-rPPG/150_1_train/subject20/vid.mp4\n",
            "Compressing /content/drive/MyDrive/research_project/data/UBFC-rPPG/DATASET_2/subject22/vid.avi\n",
            "Finished compressing /content/drive/MyDrive/research_project/data/UBFC-rPPG/DATASET_2/subject22/vid.avi to /content/drive/MyDrive/research_project/data/UBFC-rPPG/150_1_train/subject22/vid.mp4\n",
            "Compressing /content/drive/MyDrive/research_project/data/UBFC-rPPG/DATASET_2/subject23/vid.avi\n",
            "Finished compressing /content/drive/MyDrive/research_project/data/UBFC-rPPG/DATASET_2/subject23/vid.avi to /content/drive/MyDrive/research_project/data/UBFC-rPPG/150_1_train/subject23/vid.mp4\n",
            "Compressing /content/drive/MyDrive/research_project/data/UBFC-rPPG/DATASET_2/subject24/vid.avi\n",
            "Finished compressing /content/drive/MyDrive/research_project/data/UBFC-rPPG/DATASET_2/subject24/vid.avi to /content/drive/MyDrive/research_project/data/UBFC-rPPG/150_1_train/subject24/vid.mp4\n",
            "Compressing /content/drive/MyDrive/research_project/data/UBFC-rPPG/DATASET_2/subject25/vid.avi\n",
            "Finished compressing /content/drive/MyDrive/research_project/data/UBFC-rPPG/DATASET_2/subject25/vid.avi to /content/drive/MyDrive/research_project/data/UBFC-rPPG/150_1_train/subject25/vid.mp4\n",
            "Compressing /content/drive/MyDrive/research_project/data/UBFC-rPPG/DATASET_2/subject26/vid.avi\n",
            "Finished compressing /content/drive/MyDrive/research_project/data/UBFC-rPPG/DATASET_2/subject26/vid.avi to /content/drive/MyDrive/research_project/data/UBFC-rPPG/150_1_train/subject26/vid.mp4\n",
            "Compressing /content/drive/MyDrive/research_project/data/UBFC-rPPG/DATASET_2/subject27/vid.avi\n",
            "Finished compressing /content/drive/MyDrive/research_project/data/UBFC-rPPG/DATASET_2/subject27/vid.avi to /content/drive/MyDrive/research_project/data/UBFC-rPPG/150_1_train/subject27/vid.mp4\n",
            "Compressing /content/drive/MyDrive/research_project/data/UBFC-rPPG/DATASET_2/subject3/vid.avi\n",
            "Finished compressing /content/drive/MyDrive/research_project/data/UBFC-rPPG/DATASET_2/subject3/vid.avi to /content/drive/MyDrive/research_project/data/UBFC-rPPG/150_1_train/subject3/vid.mp4\n",
            "Compressing /content/drive/MyDrive/research_project/data/UBFC-rPPG/DATASET_2/subject30/vid.avi\n",
            "Finished compressing /content/drive/MyDrive/research_project/data/UBFC-rPPG/DATASET_2/subject30/vid.avi to /content/drive/MyDrive/research_project/data/UBFC-rPPG/150_1_train/subject30/vid.mp4\n",
            "Compressing /content/drive/MyDrive/research_project/data/UBFC-rPPG/DATASET_2/subject31/vid.avi\n",
            "Finished compressing /content/drive/MyDrive/research_project/data/UBFC-rPPG/DATASET_2/subject31/vid.avi to /content/drive/MyDrive/research_project/data/UBFC-rPPG/150_1_train/subject31/vid.mp4\n",
            "Compressing /content/drive/MyDrive/research_project/data/UBFC-rPPG/DATASET_2/subject32/vid.avi\n",
            "Finished compressing /content/drive/MyDrive/research_project/data/UBFC-rPPG/DATASET_2/subject32/vid.avi to /content/drive/MyDrive/research_project/data/UBFC-rPPG/150_1_train/subject32/vid.mp4\n",
            "Compressing /content/drive/MyDrive/research_project/data/UBFC-rPPG/DATASET_2/subject33/vid.avi\n",
            "Finished compressing /content/drive/MyDrive/research_project/data/UBFC-rPPG/DATASET_2/subject33/vid.avi to /content/drive/MyDrive/research_project/data/UBFC-rPPG/150_1_train/subject33/vid.mp4\n",
            "Compressing /content/drive/MyDrive/research_project/data/UBFC-rPPG/DATASET_2/subject34/vid.avi\n",
            "Finished compressing /content/drive/MyDrive/research_project/data/UBFC-rPPG/DATASET_2/subject34/vid.avi to /content/drive/MyDrive/research_project/data/UBFC-rPPG/150_1_train/subject34/vid.mp4\n",
            "Compressing /content/drive/MyDrive/research_project/data/UBFC-rPPG/DATASET_2/subject35/vid.avi\n",
            "Finished compressing /content/drive/MyDrive/research_project/data/UBFC-rPPG/DATASET_2/subject35/vid.avi to /content/drive/MyDrive/research_project/data/UBFC-rPPG/150_1_train/subject35/vid.mp4\n",
            "Compressing /content/drive/MyDrive/research_project/data/UBFC-rPPG/DATASET_2/subject36/vid.avi\n",
            "Finished compressing /content/drive/MyDrive/research_project/data/UBFC-rPPG/DATASET_2/subject36/vid.avi to /content/drive/MyDrive/research_project/data/UBFC-rPPG/150_1_train/subject36/vid.mp4\n",
            "Compressing /content/drive/MyDrive/research_project/data/UBFC-rPPG/DATASET_2/subject37/vid.avi\n",
            "Finished compressing /content/drive/MyDrive/research_project/data/UBFC-rPPG/DATASET_2/subject37/vid.avi to /content/drive/MyDrive/research_project/data/UBFC-rPPG/150_1_train/subject37/vid.mp4\n",
            "Compressing /content/drive/MyDrive/research_project/data/UBFC-rPPG/DATASET_2/subject38/vid.avi\n",
            "Finished compressing /content/drive/MyDrive/research_project/data/UBFC-rPPG/DATASET_2/subject38/vid.avi to /content/drive/MyDrive/research_project/data/UBFC-rPPG/150_1_train/subject38/vid.mp4\n",
            "Compressing /content/drive/MyDrive/research_project/data/UBFC-rPPG/DATASET_2/subject39/vid.avi\n",
            "Finished compressing /content/drive/MyDrive/research_project/data/UBFC-rPPG/DATASET_2/subject39/vid.avi to /content/drive/MyDrive/research_project/data/UBFC-rPPG/150_1_train/subject39/vid.mp4\n",
            "Compressing /content/drive/MyDrive/research_project/data/UBFC-rPPG/DATASET_2/subject4/vid.avi\n",
            "Finished compressing /content/drive/MyDrive/research_project/data/UBFC-rPPG/DATASET_2/subject4/vid.avi to /content/drive/MyDrive/research_project/data/UBFC-rPPG/150_1_train/subject4/vid.mp4\n",
            "Compressing /content/drive/MyDrive/research_project/data/UBFC-rPPG/DATASET_2/subject40/vid.avi\n",
            "Finished compressing /content/drive/MyDrive/research_project/data/UBFC-rPPG/DATASET_2/subject40/vid.avi to /content/drive/MyDrive/research_project/data/UBFC-rPPG/150_1_train/subject40/vid.mp4\n",
            "Compressing /content/drive/MyDrive/research_project/data/UBFC-rPPG/DATASET_2/subject41/vid.avi\n",
            "Finished compressing /content/drive/MyDrive/research_project/data/UBFC-rPPG/DATASET_2/subject41/vid.avi to /content/drive/MyDrive/research_project/data/UBFC-rPPG/150_1_train/subject41/vid.mp4\n",
            "Compressing /content/drive/MyDrive/research_project/data/UBFC-rPPG/DATASET_2/subject42/vid.avi\n",
            "Finished compressing /content/drive/MyDrive/research_project/data/UBFC-rPPG/DATASET_2/subject42/vid.avi to /content/drive/MyDrive/research_project/data/UBFC-rPPG/150_1_train/subject42/vid.mp4\n",
            "Compressing /content/drive/MyDrive/research_project/data/UBFC-rPPG/DATASET_2/subject43/vid.avi\n",
            "Finished compressing /content/drive/MyDrive/research_project/data/UBFC-rPPG/DATASET_2/subject43/vid.avi to /content/drive/MyDrive/research_project/data/UBFC-rPPG/150_1_train/subject43/vid.mp4\n",
            "Compressing /content/drive/MyDrive/research_project/data/UBFC-rPPG/DATASET_2/subject44/vid.avi\n",
            "Finished compressing /content/drive/MyDrive/research_project/data/UBFC-rPPG/DATASET_2/subject44/vid.avi to /content/drive/MyDrive/research_project/data/UBFC-rPPG/150_1_train/subject44/vid.mp4\n",
            "Compressing /content/drive/MyDrive/research_project/data/UBFC-rPPG/DATASET_2/subject45/vid.avi\n",
            "Finished compressing /content/drive/MyDrive/research_project/data/UBFC-rPPG/DATASET_2/subject45/vid.avi to /content/drive/MyDrive/research_project/data/UBFC-rPPG/150_1_train/subject45/vid.mp4\n",
            "Compressing /content/drive/MyDrive/research_project/data/UBFC-rPPG/DATASET_2/subject46/vid.avi\n",
            "Finished compressing /content/drive/MyDrive/research_project/data/UBFC-rPPG/DATASET_2/subject46/vid.avi to /content/drive/MyDrive/research_project/data/UBFC-rPPG/150_1_train/subject46/vid.mp4\n",
            "Compressing /content/drive/MyDrive/research_project/data/UBFC-rPPG/DATASET_2/subject47/vid.avi\n",
            "Finished compressing /content/drive/MyDrive/research_project/data/UBFC-rPPG/DATASET_2/subject47/vid.avi to /content/drive/MyDrive/research_project/data/UBFC-rPPG/150_1_train/subject47/vid.mp4\n",
            "Compressing /content/drive/MyDrive/research_project/data/UBFC-rPPG/DATASET_2/subject48/vid.avi\n",
            "Finished compressing /content/drive/MyDrive/research_project/data/UBFC-rPPG/DATASET_2/subject48/vid.avi to /content/drive/MyDrive/research_project/data/UBFC-rPPG/150_1_train/subject48/vid.mp4\n",
            "Compressing /content/drive/MyDrive/research_project/data/UBFC-rPPG/DATASET_2/subject49/vid.avi\n",
            "Finished compressing /content/drive/MyDrive/research_project/data/UBFC-rPPG/DATASET_2/subject49/vid.avi to /content/drive/MyDrive/research_project/data/UBFC-rPPG/150_1_train/subject49/vid.mp4\n",
            "Compressing /content/drive/MyDrive/research_project/data/UBFC-rPPG/DATASET_2/subject5/vid.avi\n",
            "Finished compressing /content/drive/MyDrive/research_project/data/UBFC-rPPG/DATASET_2/subject5/vid.avi to /content/drive/MyDrive/research_project/data/UBFC-rPPG/150_1_train/subject5/vid.mp4\n",
            "Compressing /content/drive/MyDrive/research_project/data/UBFC-rPPG/DATASET_2/subject8/vid.avi\n",
            "Finished compressing /content/drive/MyDrive/research_project/data/UBFC-rPPG/DATASET_2/subject8/vid.avi to /content/drive/MyDrive/research_project/data/UBFC-rPPG/150_1_train/subject8/vid.mp4\n",
            "Compressing /content/drive/MyDrive/research_project/data/UBFC-rPPG/DATASET_2/subject9/vid.avi\n",
            "Finished compressing /content/drive/MyDrive/research_project/data/UBFC-rPPG/DATASET_2/subject9/vid.avi to /content/drive/MyDrive/research_project/data/UBFC-rPPG/150_1_train/subject9/vid.mp4\n",
            "All files processed\n"
          ]
        }
      ]
    },
    {
      "cell_type": "code",
      "source": [
        "!ls -l {compressed_path}\n"
      ],
      "metadata": {
        "id": "JlhDkW62JNJR",
        "outputId": "50913110-c9df-4bc2-f439-3c1f14f21c44",
        "colab": {
          "base_uri": "https://localhost:8080/"
        }
      },
      "execution_count": 26,
      "outputs": [
        {
          "output_type": "stream",
          "name": "stdout",
          "text": [
            "total 168\n",
            "drwx------ 2 root root 4096 Oct 17 21:41 subject1\n",
            "drwx------ 2 root root 4096 Oct 17 21:41 subject10\n",
            "drwx------ 2 root root 4096 Oct 17 21:41 subject11\n",
            "drwx------ 2 root root 4096 Oct 17 21:41 subject12\n",
            "drwx------ 2 root root 4096 Oct 17 21:41 subject13\n",
            "drwx------ 2 root root 4096 Oct 17 21:41 subject14\n",
            "drwx------ 2 root root 4096 Oct 17 21:41 subject15\n",
            "drwx------ 2 root root 4096 Oct 17 21:41 subject16\n",
            "drwx------ 2 root root 4096 Oct 17 21:41 subject17\n",
            "drwx------ 2 root root 4096 Oct 17 21:41 subject18\n",
            "drwx------ 2 root root 4096 Oct 17 21:42 subject20\n",
            "drwx------ 2 root root 4096 Oct 17 21:42 subject22\n",
            "drwx------ 2 root root 4096 Oct 17 21:42 subject23\n",
            "drwx------ 2 root root 4096 Oct 17 21:42 subject24\n",
            "drwx------ 2 root root 4096 Oct 17 21:42 subject25\n",
            "drwx------ 2 root root 4096 Oct 17 21:42 subject26\n",
            "drwx------ 2 root root 4096 Oct 17 21:42 subject27\n",
            "drwx------ 2 root root 4096 Oct 17 21:42 subject3\n",
            "drwx------ 2 root root 4096 Oct 17 21:42 subject30\n",
            "drwx------ 2 root root 4096 Oct 17 21:42 subject31\n",
            "drwx------ 2 root root 4096 Oct 17 21:42 subject32\n",
            "drwx------ 2 root root 4096 Oct 17 21:42 subject33\n",
            "drwx------ 2 root root 4096 Oct 17 21:42 subject34\n",
            "drwx------ 2 root root 4096 Oct 17 21:43 subject35\n",
            "drwx------ 2 root root 4096 Oct 17 21:43 subject36\n",
            "drwx------ 2 root root 4096 Oct 17 21:43 subject37\n",
            "drwx------ 2 root root 4096 Oct 17 21:43 subject38\n",
            "drwx------ 2 root root 4096 Oct 17 21:43 subject39\n",
            "drwx------ 2 root root 4096 Oct 17 21:43 subject4\n",
            "drwx------ 2 root root 4096 Oct 17 21:43 subject40\n",
            "drwx------ 2 root root 4096 Oct 17 21:43 subject41\n",
            "drwx------ 2 root root 4096 Oct 17 21:43 subject42\n",
            "drwx------ 2 root root 4096 Oct 17 21:43 subject43\n",
            "drwx------ 2 root root 4096 Oct 17 21:43 subject44\n",
            "drwx------ 2 root root 4096 Oct 17 21:43 subject45\n",
            "drwx------ 2 root root 4096 Oct 17 21:43 subject46\n",
            "drwx------ 2 root root 4096 Oct 17 21:44 subject47\n",
            "drwx------ 2 root root 4096 Oct 17 21:44 subject48\n",
            "drwx------ 2 root root 4096 Oct 17 21:44 subject49\n",
            "drwx------ 2 root root 4096 Oct 17 21:44 subject5\n",
            "drwx------ 2 root root 4096 Oct 17 21:44 subject8\n",
            "drwx------ 2 root root 4096 Oct 17 21:44 subject9\n"
          ]
        }
      ]
    }
  ]
}