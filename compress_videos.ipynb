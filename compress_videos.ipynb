{
  "nbformat": 4,
  "nbformat_minor": 0,
  "metadata": {
    "colab": {
      "provenance": [],
      "include_colab_link": true
    },
    "kernelspec": {
      "name": "python3",
      "display_name": "Python 3"
    },
    "language_info": {
      "name": "python"
    }
  },
  "cells": [
    {
      "cell_type": "markdown",
      "metadata": {
        "id": "view-in-github",
        "colab_type": "text"
      },
      "source": [
        "<a href=\"https://colab.research.google.com/github/trappertwo/rPPG_experiments/blob/main/compress_videos.ipynb\" target=\"_parent\"><img src=\"https://colab.research.google.com/assets/colab-badge.svg\" alt=\"Open In Colab\"/></a>"
      ]
    },
    {
      "cell_type": "code",
      "execution_count": 31,
      "metadata": {
        "id": "oS25JlxfmkFF",
        "colab": {
          "base_uri": "https://localhost:8080/"
        },
        "outputId": "7de4f0d8-cf28-4080-b388-9d2189a87447"
      },
      "outputs": [
        {
          "output_type": "stream",
          "name": "stdout",
          "text": [
            "Drive already mounted at /content/drive; to attempt to forcibly remount, call drive.mount(\"/content/drive\", force_remount=True).\n"
          ]
        }
      ],
      "source": [
        "### UBFC-rPPG dataset in drive folder\n",
        "### (TODO) Figure out how to import data set directly into colab\n",
        "from google.colab import drive\n",
        "\n",
        "drive.mount('/content/drive')"
      ]
    },
    {
      "cell_type": "code",
      "source": [
        "### Compress the UBFC dataset and store the compressed files under a separate\n",
        "### dir structure. Only needs to be run once.\n",
        "import numpy as np\n",
        "import pandas as pd\n",
        "import math\n",
        "import matplotlib.pyplot as plt\n",
        "import shutil\n",
        "import os\n",
        "\n",
        "!pip install -q mediapy\n",
        "import mediapy as media\n",
        "\n",
        "base_path = '/content/drive/MyDrive/research_project/data/UBFC-rPPG/DATASET_2' # @param {type:\"string\"}\n",
        "compressed_path = '/content/drive/MyDrive/research_project/data/UBFC-rPPG/DATASET_50_1_train' # @param {type:\"string\"}\n",
        "\n",
        "!ls -l $base_path/subject9"
      ],
      "metadata": {
        "id": "puUO3uF8my5h",
        "colab": {
          "base_uri": "https://localhost:8080/"
        },
        "outputId": "948f26a0-6aa3-49c8-8777-3f33df842393"
      },
      "execution_count": 32,
      "outputs": [
        {
          "output_type": "stream",
          "name": "stdout",
          "text": [
            "total 1814623\n",
            "-r-------- 1 root root      96774 Mar  7  2018 ground_truth.txt\n",
            "-r-------- 1 root root 1858075976 Nov  2  2017 vid.avi\n"
          ]
        }
      ]
    },
    {
      "cell_type": "code",
      "source": [
        "# Compress data - creates new dataset\n",
        "COMPRESSION_RATIO = 50 # @param {type:\"number\"}\n",
        "LENGTH = 640 # @param {type:\"number\"}\n",
        "WIDTH = 480 # @param {type:\"number\"}\n",
        "FPS = 30 # @param {type:\"number\"}\n",
        "ORIGINAL_BIT_RATE = LENGTH*WIDTH*8*3*FPS #Only for UBFC-rPPG\n",
        "print(\"Original bit rate: \" + str(ORIGINAL_BIT_RATE))\n",
        "COMPRESSION_BIT_RATE = ORIGINAL_BIT_RATE // COMPRESSION_RATIO\n",
        "print(\"Compression bit rate: \" + str(COMPRESSION_BIT_RATE))\n",
        "\n",
        "dirnames = os.listdir(base_path)\n",
        "if not os.path.isdir(compressed_path):\n",
        "  os.mkdir(compressed_path)\n",
        "for dirname in dirnames:\n",
        "  if not os.path.isdir(os.path.join(compressed_path, dirname)):\n",
        "    os.mkdir(os.path.join(compressed_path, dirname))\n",
        "  for filename in os.listdir(os.path.join(base_path, dirname)):\n",
        "    if filename.endswith('.avi'):\n",
        "      video = media.read_video(os.path.join(base_path, dirname, filename))\n",
        "      compressed_data = media.compress_video(video, bps=COMPRESSION_BIT_RATE, fps=30)\n",
        "      print(\"Writing \" + os.path.join(compressed_path, dirname, 'vid.mp4'))\n",
        "      with open(os.path.join(compressed_path, dirname, 'vid.mp4'), 'wb') as f:\n",
        "        f.write(compressed_data)\n",
        "    else:\n",
        "      shutil.copy(os.path.join(base_path, dirname, filename), os.path.join(compressed_path, dirname, filename))\n",
        "print(\"All files compressed\")"
      ],
      "metadata": {
        "collapsed": true,
        "id": "BM3fBfUImy_2",
        "colab": {
          "base_uri": "https://localhost:8080/"
        },
        "outputId": "713756a3-f1fd-4c81-ff4d-3dce767f0a9f"
      },
      "execution_count": null,
      "outputs": [
        {
          "output_type": "stream",
          "name": "stdout",
          "text": [
            "Original bit rate: 221184000\n",
            "Compression bit rate: 4423680\n",
            "Writing /content/drive/MyDrive/research_project/data/UBFC-rPPG/DATASET_50_1_train/subject1/vid.mp4\n",
            "Writing /content/drive/MyDrive/research_project/data/UBFC-rPPG/DATASET_50_1_train/subject10/vid.mp4\n",
            "Writing /content/drive/MyDrive/research_project/data/UBFC-rPPG/DATASET_50_1_train/subject11/vid.mp4\n",
            "Writing /content/drive/MyDrive/research_project/data/UBFC-rPPG/DATASET_50_1_train/subject12/vid.mp4\n",
            "Writing /content/drive/MyDrive/research_project/data/UBFC-rPPG/DATASET_50_1_train/subject13/vid.mp4\n",
            "Writing /content/drive/MyDrive/research_project/data/UBFC-rPPG/DATASET_50_1_train/subject14/vid.mp4\n",
            "Writing /content/drive/MyDrive/research_project/data/UBFC-rPPG/DATASET_50_1_train/subject15/vid.mp4\n",
            "Writing /content/drive/MyDrive/research_project/data/UBFC-rPPG/DATASET_50_1_train/subject16/vid.mp4\n",
            "Writing /content/drive/MyDrive/research_project/data/UBFC-rPPG/DATASET_50_1_train/subject17/vid.mp4\n",
            "Writing /content/drive/MyDrive/research_project/data/UBFC-rPPG/DATASET_50_1_train/subject18/vid.mp4\n",
            "Writing /content/drive/MyDrive/research_project/data/UBFC-rPPG/DATASET_50_1_train/subject20/vid.mp4\n",
            "Writing /content/drive/MyDrive/research_project/data/UBFC-rPPG/DATASET_50_1_train/subject22/vid.mp4\n",
            "Writing /content/drive/MyDrive/research_project/data/UBFC-rPPG/DATASET_50_1_train/subject23/vid.mp4\n",
            "Writing /content/drive/MyDrive/research_project/data/UBFC-rPPG/DATASET_50_1_train/subject24/vid.mp4\n",
            "Writing /content/drive/MyDrive/research_project/data/UBFC-rPPG/DATASET_50_1_train/subject25/vid.mp4\n",
            "Writing /content/drive/MyDrive/research_project/data/UBFC-rPPG/DATASET_50_1_train/subject26/vid.mp4\n",
            "Writing /content/drive/MyDrive/research_project/data/UBFC-rPPG/DATASET_50_1_train/subject27/vid.mp4\n",
            "Writing /content/drive/MyDrive/research_project/data/UBFC-rPPG/DATASET_50_1_train/subject3/vid.mp4\n",
            "Writing /content/drive/MyDrive/research_project/data/UBFC-rPPG/DATASET_50_1_train/subject30/vid.mp4\n",
            "Writing /content/drive/MyDrive/research_project/data/UBFC-rPPG/DATASET_50_1_train/subject31/vid.mp4\n",
            "Writing /content/drive/MyDrive/research_project/data/UBFC-rPPG/DATASET_50_1_train/subject32/vid.mp4\n",
            "Writing /content/drive/MyDrive/research_project/data/UBFC-rPPG/DATASET_50_1_train/subject33/vid.mp4\n",
            "Writing /content/drive/MyDrive/research_project/data/UBFC-rPPG/DATASET_50_1_train/subject34/vid.mp4\n",
            "Writing /content/drive/MyDrive/research_project/data/UBFC-rPPG/DATASET_50_1_train/subject35/vid.mp4\n",
            "Writing /content/drive/MyDrive/research_project/data/UBFC-rPPG/DATASET_50_1_train/subject36/vid.mp4\n",
            "Writing /content/drive/MyDrive/research_project/data/UBFC-rPPG/DATASET_50_1_train/subject37/vid.mp4\n",
            "Writing /content/drive/MyDrive/research_project/data/UBFC-rPPG/DATASET_50_1_train/subject38/vid.mp4\n",
            "Writing /content/drive/MyDrive/research_project/data/UBFC-rPPG/DATASET_50_1_train/subject39/vid.mp4\n",
            "Writing /content/drive/MyDrive/research_project/data/UBFC-rPPG/DATASET_50_1_train/subject4/vid.mp4\n",
            "Writing /content/drive/MyDrive/research_project/data/UBFC-rPPG/DATASET_50_1_train/subject40/vid.mp4\n",
            "Writing /content/drive/MyDrive/research_project/data/UBFC-rPPG/DATASET_50_1_train/subject41/vid.mp4\n",
            "Writing /content/drive/MyDrive/research_project/data/UBFC-rPPG/DATASET_50_1_train/subject42/vid.mp4\n",
            "Writing /content/drive/MyDrive/research_project/data/UBFC-rPPG/DATASET_50_1_train/subject43/vid.mp4\n",
            "Writing /content/drive/MyDrive/research_project/data/UBFC-rPPG/DATASET_50_1_train/subject44/vid.mp4\n",
            "Writing /content/drive/MyDrive/research_project/data/UBFC-rPPG/DATASET_50_1_train/subject45/vid.mp4\n",
            "Writing /content/drive/MyDrive/research_project/data/UBFC-rPPG/DATASET_50_1_train/subject46/vid.mp4\n",
            "Writing /content/drive/MyDrive/research_project/data/UBFC-rPPG/DATASET_50_1_train/subject47/vid.mp4\n",
            "Writing /content/drive/MyDrive/research_project/data/UBFC-rPPG/DATASET_50_1_train/subject48/vid.mp4\n",
            "Writing /content/drive/MyDrive/research_project/data/UBFC-rPPG/DATASET_50_1_train/subject49/vid.mp4\n",
            "Writing /content/drive/MyDrive/research_project/data/UBFC-rPPG/DATASET_50_1_train/subject5/vid.mp4\n",
            "Writing /content/drive/MyDrive/research_project/data/UBFC-rPPG/DATASET_50_1_train/subject8/vid.mp4\n"
          ]
        }
      ]
    },
    {
      "cell_type": "code",
      "source": [
        "import cv2\n",
        "\n",
        "def read_video(video_file):\n",
        "        \"\"\"Reads a video file, returns frames(T, H, W, 3) \"\"\"\n",
        "        VidObj = cv2.VideoCapture(video_file)\n",
        "        VidObj.set(cv2.CAP_PROP_POS_MSEC, 0)\n",
        "        success, frame = VidObj.read()\n",
        "        frames = list()\n",
        "        while success:\n",
        "            frame = cv2.cvtColor(np.array(frame), cv2.COLOR_BGR2RGB)\n",
        "            frame = np.asarray(frame)\n",
        "            frames.append(frame)\n",
        "            success, frame = VidObj.read()\n",
        "        return np.asarray(frames)\n",
        "\n",
        "#original_path = base_path+'/subject1/vid.avi'\n",
        "#!ls -l $original_path\n",
        "#original_vid = read_video(original_path)\n",
        "#print('original frames:')\n",
        "#len(original_vid)\n",
        "\n",
        "new_file = '/content/drive/MyDrive/research_project/data/UBFC-rPPG/DATASET_50_1_train/subject1/vid.mp4' # @param {type:\"string\"}\n",
        "!ls -l $new_file\n",
        "new_vid = media.read_video(new_file)\n",
        "#new_vid = read_video(new_file)\n",
        "\n",
        "print('new frames:')\n",
        "len(new_vid)\n",
        "\n",
        "#new_vid = read_video(compressed_path+'/subject1/vid.mp4')\n",
        "#print(original_vid.size / new_vid.size)\n",
        "#len(new_vid)"
      ],
      "metadata": {
        "id": "SkfSzZ57oNto"
      },
      "execution_count": null,
      "outputs": []
    }
  ]
}