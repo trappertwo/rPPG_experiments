{
  "nbformat": 4,
  "nbformat_minor": 0,
  "metadata": {
    "colab": {
      "provenance": [],
      "include_colab_link": true
    },
    "kernelspec": {
      "name": "python3",
      "display_name": "Python 3"
    },
    "language_info": {
      "name": "python"
    }
  },
  "cells": [
    {
      "cell_type": "markdown",
      "metadata": {
        "id": "view-in-github",
        "colab_type": "text"
      },
      "source": [
        "<a href=\"https://colab.research.google.com/github/trappertwo/rPPG_experiments/blob/main/compress_videos.ipynb\" target=\"_parent\"><img src=\"https://colab.research.google.com/assets/colab-badge.svg\" alt=\"Open In Colab\"/></a>"
      ]
    },
    {
      "cell_type": "code",
      "execution_count": 1,
      "metadata": {
        "id": "oS25JlxfmkFF",
        "outputId": "532a0489-832e-4113-9856-c8968ebea89f",
        "colab": {
          "base_uri": "https://localhost:8080/"
        }
      },
      "outputs": [
        {
          "output_type": "stream",
          "name": "stdout",
          "text": [
            "Mounted at /content/drive\n"
          ]
        }
      ],
      "source": [
        "### UBFC-rPPG dataset in drive folder\n",
        "### (TODO) Figure out how to import data set directly into colab\n",
        "from google.colab import drive\n",
        "\n",
        "drive.mount('/content/drive')"
      ]
    },
    {
      "cell_type": "code",
      "source": [
        "### Compress the UBFC dataset and store the compressed files under a separate\n",
        "### dir structure. Only needs to be run once.\n",
        "import numpy as np\n",
        "import pandas as pd\n",
        "import math\n",
        "import matplotlib.pyplot as plt\n",
        "import shutil\n",
        "import os\n",
        "\n",
        "!pip install -q mediapy\n",
        "import mediapy as media\n",
        "\n",
        "base_path = '/content/drive/MyDrive/DATASETS/DATASET_2' # @param {type:\"string\"}\n",
        "compressed_path = '/content/drive/MyDrive/DATASETS/DATASET_3' # @param {type:\"string\"}"
      ],
      "metadata": {
        "id": "puUO3uF8my5h"
      },
      "execution_count": null,
      "outputs": []
    },
    {
      "cell_type": "code",
      "source": [
        "# Compress data - creates new dataset\n",
        "COMPRESSION_RATIO = 50\n",
        "ORIGINAL_BIT_RATE = 640*480*8*3*30 #Only for UBFC-rPPG\n",
        "print(\"Original bit rate: \" + str(ORIGINAL_BIT_RATE))\n",
        "COMPRESSION_BIT_RATE = ORIGINAL_BIT_RATE // COMPRESSION_RATIO\n",
        "print(\"Compression bit rate: \" + str(COMPRESSION_BIT_RATE))\n",
        "\n",
        "dirnames = os.listdir(base_path)\n",
        "if not os.path.isdir(compressed_path):\n",
        "  os.mkdir(compressed_path)\n",
        "for dirname in dirnames:\n",
        "  if not os.path.isdir(os.path.join(compressed_path, dirname)):\n",
        "    os.mkdir(os.path.join(compressed_path, dirname))\n",
        "  for filename in os.listdir(os.path.join(base_path, dirname)):\n",
        "    if filename.endswith('.avi'):\n",
        "      video = media.read_video(os.path.join(base_path, dirname, filename))\n",
        "      compressed_data = media.compress_video(video, bps=COMPRESSION_BIT_RATE, fps=30)\n",
        "      print(\"Writing \" + os.path.join(compressed_path, dirname, 'vid.mp4'))\n",
        "      with open(os.path.join(compressed_path, dirname, 'vid.mp4'), 'wb') as f:\n",
        "        f.write(compressed_data)\n",
        "    else:\n",
        "      shutil.copy(os.path.join(base_path, dirname, filename), os.path.join(compressed_path, dirname, filename))\n",
        "print(\"All files compressed\")"
      ],
      "metadata": {
        "collapsed": true,
        "id": "BM3fBfUImy_2"
      },
      "execution_count": null,
      "outputs": []
    },
    {
      "cell_type": "code",
      "source": [
        "# Compare file sizes:\n",
        "original_vid = media.read_video(base_path+'/subject1/vid.avi')\n",
        "new_vid = media.read_video(compressed_path+'/subject1/vid.mp4')\n",
        "print(original_vid.size / new_vid.size)"
      ],
      "metadata": {
        "id": "SkfSzZ57oNto"
      },
      "execution_count": null,
      "outputs": []
    }
  ]
}