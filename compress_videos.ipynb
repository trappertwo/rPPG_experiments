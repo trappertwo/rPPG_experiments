{
  "nbformat": 4,
  "nbformat_minor": 0,
  "metadata": {
    "colab": {
      "provenance": [],
      "include_colab_link": true
    },
    "kernelspec": {
      "name": "python3",
      "display_name": "Python 3"
    },
    "language_info": {
      "name": "python"
    }
  },
  "cells": [
    {
      "cell_type": "markdown",
      "metadata": {
        "id": "view-in-github",
        "colab_type": "text"
      },
      "source": [
        "<a href=\"https://colab.research.google.com/github/trappertwo/rPPG_experiments/blob/main/compress_videos.ipynb\" target=\"_parent\"><img src=\"https://colab.research.google.com/assets/colab-badge.svg\" alt=\"Open In Colab\"/></a>"
      ]
    },
    {
      "cell_type": "code",
      "execution_count": 1,
      "metadata": {
        "id": "oS25JlxfmkFF",
        "colab": {
          "base_uri": "https://localhost:8080/"
        },
        "outputId": "244a08c6-6a9b-4d4b-f92c-0628ce60d074"
      },
      "outputs": [
        {
          "output_type": "stream",
          "name": "stdout",
          "text": [
            "Mounted at /content/drive\n"
          ]
        }
      ],
      "source": [
        "### UBFC-rPPG dataset in drive folder\n",
        "### (TODO) Figure out how to import data set directly into colab\n",
        "from google.colab import drive\n",
        "\n",
        "drive.mount('/content/drive')"
      ]
    },
    {
      "cell_type": "code",
      "source": [
        "### Compress the UBFC dataset and store the compressed files under a separate\n",
        "### dir structure. Only needs to be run once.\n",
        "import numpy as np\n",
        "import pandas as pd\n",
        "import math\n",
        "import matplotlib.pyplot as plt\n",
        "import shutil\n",
        "import os\n",
        "\n",
        "!pip install -q mediapy\n",
        "import mediapy as media\n",
        "\n",
        "base_path = '/content/drive/MyDrive/research_project/data/UBFC-rPPG/DATASET_2' # @param {type:\"string\"}\n",
        "compressed_path = '/content/drive/MyDrive/research_project/data/UBFC-rPPG/500_1_train' # @param {type:\"string\"}\n",
        "\n",
        "!ls -l $base_path/subject9\n",
        "!ls -l $compressed_path"
      ],
      "metadata": {
        "id": "puUO3uF8my5h",
        "colab": {
          "base_uri": "https://localhost:8080/"
        },
        "outputId": "983e6600-60e9-4dbd-ea5b-4e6db51a0278"
      },
      "execution_count": 2,
      "outputs": [
        {
          "output_type": "stream",
          "name": "stdout",
          "text": [
            "\u001b[?25l   \u001b[90m━━━━━━━━━━━━━━━━━━━━━━━━━━━━━━━━━━━━━━━━\u001b[0m \u001b[32m0.0/1.6 MB\u001b[0m \u001b[31m?\u001b[0m eta \u001b[36m-:--:--\u001b[0m\r\u001b[2K   \u001b[91m━━━━━━━━━━━\u001b[0m\u001b[91m╸\u001b[0m\u001b[90m━━━━━━━━━━━━━━━━━━━━━━━━━━━━\u001b[0m \u001b[32m0.5/1.6 MB\u001b[0m \u001b[31m13.9 MB/s\u001b[0m eta \u001b[36m0:00:01\u001b[0m\r\u001b[2K   \u001b[91m━━━━━━━━━━━━━━━━━━━━━━━━━━━━━━━━━━━━━━━\u001b[0m\u001b[91m╸\u001b[0m \u001b[32m1.6/1.6 MB\u001b[0m \u001b[31m29.1 MB/s\u001b[0m eta \u001b[36m0:00:01\u001b[0m\r\u001b[2K   \u001b[90m━━━━━━━━━━━━━━━━━━━━━━━━━━━━━━━━━━━━━━━━\u001b[0m \u001b[32m1.6/1.6 MB\u001b[0m \u001b[31m20.2 MB/s\u001b[0m eta \u001b[36m0:00:00\u001b[0m\n",
            "\u001b[?25htotal 1814623\n",
            "-r-------- 1 root root      96774 Mar  7  2018 ground_truth.txt\n",
            "-r-------- 1 root root 1858075976 Nov  2  2017 vid.avi\n",
            "ls: cannot access '/content/drive/MyDrive/research_project/data/UBFC-rPPG/500_1_train': No such file or directory\n"
          ]
        }
      ]
    },
    {
      "cell_type": "code",
      "source": [
        "COMPRESSION_RATIO = 500 # @param {type:\"number\"}\n",
        "LENGTH = 640 # @param {type:\"number\"}\n",
        "WIDTH = 480 # @param {type:\"number\"}\n",
        "FPS = 30 # @param {type:\"number\"}\n",
        "ORIGINAL_BIT_RATE = LENGTH*WIDTH*8*3*FPS #Only for UBFC-rPPG\n",
        "print(\"Original bit rate: \" + str(ORIGINAL_BIT_RATE))\n",
        "COMPRESSION_BIT_RATE = ORIGINAL_BIT_RATE // COMPRESSION_RATIO\n",
        "print(\"Compression bit rate: \" + str(COMPRESSION_BIT_RATE))"
      ],
      "metadata": {
        "id": "0jWdfpiIqo6G",
        "outputId": "15cec247-530f-4e2d-c9ac-e9e8b1ec470a",
        "colab": {
          "base_uri": "https://localhost:8080/"
        }
      },
      "execution_count": 4,
      "outputs": [
        {
          "output_type": "stream",
          "name": "stdout",
          "text": [
            "Original bit rate: 221184000\n",
            "Compression bit rate: 442368\n"
          ]
        }
      ]
    },
    {
      "cell_type": "code",
      "source": [
        "# Compress data - creates new dataset\n",
        "#BIT_RATE = 5000000 # @param {type:\"number\"}\n",
        "dirnames = os.listdir(base_path)\n",
        "if not os.path.isdir(compressed_path):\n",
        "  os.mkdir(compressed_path)\n",
        "for dirname in dirnames:\n",
        "  if not os.path.isdir(os.path.join(compressed_path, dirname)):\n",
        "    os.mkdir(os.path.join(compressed_path, dirname))\n",
        "  for filename in os.listdir(os.path.join(base_path, dirname)):\n",
        "    if filename.endswith('.avi'):\n",
        "      video = media.read_video(os.path.join(base_path, dirname, filename))\n",
        "      compressed_data = media.compress_video(video, bps=COMPRESSION_BIT_RATE, fps=30)\n",
        "      print(\"Writing \" + os.path.join(compressed_path, dirname, 'vid.mp4'))\n",
        "      with open(os.path.join(compressed_path, dirname, 'vid.mp4'), 'wb') as f:\n",
        "        f.write(compressed_data)\n",
        "    else:\n",
        "      shutil.copy(os.path.join(base_path, dirname, filename), os.path.join(compressed_path, dirname, filename))\n",
        "print(\"All files compressed\")"
      ],
      "metadata": {
        "collapsed": true,
        "id": "BM3fBfUImy_2",
        "colab": {
          "base_uri": "https://localhost:8080/"
        },
        "outputId": "bcfde4ff-f7ec-4e74-f157-3b0147c8a5c4"
      },
      "execution_count": null,
      "outputs": [
        {
          "output_type": "stream",
          "name": "stdout",
          "text": [
            "Writing /content/drive/MyDrive/research_project/data/UBFC-rPPG/500_1_train/subject1/vid.mp4\n",
            "Writing /content/drive/MyDrive/research_project/data/UBFC-rPPG/500_1_train/subject10/vid.mp4\n",
            "Writing /content/drive/MyDrive/research_project/data/UBFC-rPPG/500_1_train/subject11/vid.mp4\n",
            "Writing /content/drive/MyDrive/research_project/data/UBFC-rPPG/500_1_train/subject12/vid.mp4\n"
          ]
        }
      ]
    },
    {
      "cell_type": "code",
      "source": [
        "import cv2\n",
        "\n",
        "def read_video(video_file):\n",
        "        \"\"\"Reads a video file, returns frames(T, H, W, 3) \"\"\"\n",
        "        VidObj = cv2.VideoCapture(video_file)\n",
        "        VidObj.set(cv2.CAP_PROP_POS_MSEC, 0)\n",
        "        success, frame = VidObj.read()\n",
        "        frames = list()\n",
        "        while success:\n",
        "            frame = cv2.cvtColor(np.array(frame), cv2.COLOR_BGR2RGB)\n",
        "            frame = np.asarray(frame)\n",
        "            frames.append(frame)\n",
        "            success, frame = VidObj.read()\n",
        "        return np.asarray(frames)\n",
        "\n",
        "#original_path = base_path+'/subject1/vid.avi'\n",
        "#!ls -l $original_path\n",
        "#original_vid = read_video(original_path)\n",
        "#print('original frames:')\n",
        "#len(original_vid)\n",
        "\n",
        "new_file = '/content/drive/MyDrive/research_project/data/UBFC-rPPG/500_1_train/subject1/vid.mp4' # @param {type:\"string\"}\n",
        "!ls -l $new_file\n",
        "new_vid = media.read_video(new_file)\n",
        "#new_vid = read_video(new_file)\n",
        "\n",
        "print('new frames:')\n",
        "len(new_vid)\n",
        "\n",
        "#new_vid = read_video(compressed_path+'/subject1/vid.mp4')\n",
        "#print(original_vid.size / new_vid.size)\n",
        "#len(new_vid)"
      ],
      "metadata": {
        "id": "JlhDkW62JNJR"
      },
      "execution_count": null,
      "outputs": []
    }
  ]
}